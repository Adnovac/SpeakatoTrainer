{
 "cells": [
  {
   "cell_type": "markdown",
   "id": "3f682299",
   "metadata": {},
   "source": [
    "# Speakato sandbox - free model testing"
   ]
  },
  {
   "cell_type": "code",
   "execution_count": 1,
   "id": "15890378",
   "metadata": {},
   "outputs": [],
   "source": [
    "import spacy\n",
    "import pandas as pd\n",
    "import numpy as np\n",
    "import json\n",
    "import keras.models"
   ]
  },
  {
   "cell_type": "markdown",
   "id": "5ef59566",
   "metadata": {},
   "source": [
    "## Loading dataset and models"
   ]
  },
  {
   "cell_type": "code",
   "execution_count": 2,
   "id": "59b5731a",
   "metadata": {},
   "outputs": [
    {
     "data": {
      "text/plain": [
       "{'language': 'pl',\n",
       " 'lemmatizer': 'pl_core_news_sm',\n",
       " 'token_len': 96,\n",
       " 'train_evaluation': [0.0025778175331652164, 1.0],\n",
       " 'test_evaluation': [1.948368787765503, 0.20000000298023224]}"
      ]
     },
     "execution_count": 2,
     "metadata": {},
     "output_type": "execute_result"
    }
   ],
   "source": [
    "model_path = \"../models/Speakato_model_2021-12-19\"\n",
    "dataset_path = \"../examples/polish_commands_dataset\"\n",
    "\n",
    "with open(f\"{model_path}/info.json\", \"r\") as f:\n",
    "    config = json.load(f)\n",
    "\n",
    "with open(f\"{dataset_path}/commands.txt\", \"r\") as f:\n",
    "    labels = [x.rstrip(\"\\n\") for x in f.readlines()]\n",
    "\n",
    "config"
   ]
  },
  {
   "cell_type": "code",
   "execution_count": 3,
   "id": "beb50d6d",
   "metadata": {},
   "outputs": [
    {
     "data": {
      "text/html": [
       "<div>\n",
       "<style scoped>\n",
       "    .dataframe tbody tr th:only-of-type {\n",
       "        vertical-align: middle;\n",
       "    }\n",
       "\n",
       "    .dataframe tbody tr th {\n",
       "        vertical-align: top;\n",
       "    }\n",
       "\n",
       "    .dataframe thead th {\n",
       "        text-align: right;\n",
       "    }\n",
       "</style>\n",
       "<table border=\"1\" class=\"dataframe\">\n",
       "  <thead>\n",
       "    <tr style=\"text-align: right;\">\n",
       "      <th></th>\n",
       "      <th>text</th>\n",
       "      <th>command</th>\n",
       "    </tr>\n",
       "  </thead>\n",
       "  <tbody>\n",
       "    <tr>\n",
       "      <th>0</th>\n",
       "      <td>Dzień dobry</td>\n",
       "      <td>greeting</td>\n",
       "    </tr>\n",
       "    <tr>\n",
       "      <th>1</th>\n",
       "      <td>Cześć</td>\n",
       "      <td>greeting</td>\n",
       "    </tr>\n",
       "    <tr>\n",
       "      <th>2</th>\n",
       "      <td>Hej</td>\n",
       "      <td>greeting</td>\n",
       "    </tr>\n",
       "    <tr>\n",
       "      <th>3</th>\n",
       "      <td>Siema</td>\n",
       "      <td>greeting</td>\n",
       "    </tr>\n",
       "    <tr>\n",
       "      <th>4</th>\n",
       "      <td>Elo, co tam</td>\n",
       "      <td>greeting</td>\n",
       "    </tr>\n",
       "    <tr>\n",
       "      <th>5</th>\n",
       "      <td>Otwórz aplikację spotify</td>\n",
       "      <td>open</td>\n",
       "    </tr>\n",
       "    <tr>\n",
       "      <th>6</th>\n",
       "      <td>Włącz chrome</td>\n",
       "      <td>open</td>\n",
       "    </tr>\n",
       "    <tr>\n",
       "      <th>7</th>\n",
       "      <td>Otwórz notatnik</td>\n",
       "      <td>open</td>\n",
       "    </tr>\n",
       "    <tr>\n",
       "      <th>8</th>\n",
       "      <td>Włącz mi aplikacje notatnik</td>\n",
       "      <td>open</td>\n",
       "    </tr>\n",
       "    <tr>\n",
       "      <th>9</th>\n",
       "      <td>Uruchom przeglądarkę</td>\n",
       "      <td>open</td>\n",
       "    </tr>\n",
       "    <tr>\n",
       "      <th>10</th>\n",
       "      <td>Zamknij okno</td>\n",
       "      <td>close</td>\n",
       "    </tr>\n",
       "    <tr>\n",
       "      <th>11</th>\n",
       "      <td>Zamknij aplikację</td>\n",
       "      <td>close</td>\n",
       "    </tr>\n",
       "    <tr>\n",
       "      <th>12</th>\n",
       "      <td>Wyłącz aplikację</td>\n",
       "      <td>close</td>\n",
       "    </tr>\n",
       "    <tr>\n",
       "      <th>13</th>\n",
       "      <td>Nastaw budzik na ośmą rano</td>\n",
       "      <td>alarm</td>\n",
       "    </tr>\n",
       "    <tr>\n",
       "      <th>14</th>\n",
       "      <td>Obudź mnie o czwartej rano</td>\n",
       "      <td>alarm</td>\n",
       "    </tr>\n",
       "    <tr>\n",
       "      <th>15</th>\n",
       "      <td>Włącz alarm na siedemnastą</td>\n",
       "      <td>alarm</td>\n",
       "    </tr>\n",
       "  </tbody>\n",
       "</table>\n",
       "</div>"
      ],
      "text/plain": [
       "                           text   command\n",
       "0                   Dzień dobry  greeting\n",
       "1                         Cześć  greeting\n",
       "2                           Hej  greeting\n",
       "3                         Siema  greeting\n",
       "4                   Elo, co tam  greeting\n",
       "5      Otwórz aplikację spotify      open\n",
       "6                  Włącz chrome      open\n",
       "7               Otwórz notatnik      open\n",
       "8   Włącz mi aplikacje notatnik      open\n",
       "9          Uruchom przeglądarkę      open\n",
       "10                 Zamknij okno     close\n",
       "11            Zamknij aplikację     close\n",
       "12             Wyłącz aplikację     close\n",
       "13   Nastaw budzik na ośmą rano     alarm\n",
       "14   Obudź mnie o czwartej rano     alarm\n",
       "15   Włącz alarm na siedemnastą     alarm"
      ]
     },
     "execution_count": 3,
     "metadata": {},
     "output_type": "execute_result"
    }
   ],
   "source": [
    "nlp = spacy.load(config[\"lemmatizer\"])\n",
    "data = pd.read_json(f\"{dataset_path}/dataset.json\")\n",
    "data"
   ]
  },
  {
   "cell_type": "code",
   "execution_count": 4,
   "id": "84ea96b4",
   "metadata": {},
   "outputs": [],
   "source": [
    "model = keras.models.load_model(f\"{model_path}/model\")"
   ]
  },
  {
   "cell_type": "markdown",
   "id": "66482443",
   "metadata": {},
   "source": [
    "## Evaluation and comparison of the results"
   ]
  },
  {
   "cell_type": "code",
   "execution_count": 5,
   "id": "1f776d5a",
   "metadata": {},
   "outputs": [
    {
     "name": "stdout",
     "output_type": "stream",
     "text": [
      "1/1 [==============================] - 1s 697ms/step - loss: 0.6106 - accuracy: 0.7500\n"
     ]
    },
    {
     "data": {
      "text/plain": [
       "[0.6106374859809875, 0.75]"
      ]
     },
     "execution_count": 5,
     "metadata": {},
     "output_type": "execute_result"
    }
   ],
   "source": [
    "X_raw = data[\"text\"]\n",
    "X = np.array([nlp(x).vector for x in X_raw])\n",
    "y = pd.get_dummies(data[[\"command\"]]).values\n",
    "\n",
    "model.evaluate(X, y)"
   ]
  },
  {
   "cell_type": "code",
   "execution_count": 6,
   "id": "d4044264",
   "metadata": {},
   "outputs": [],
   "source": [
    "y_predicted = model(X)"
   ]
  },
  {
   "cell_type": "code",
   "execution_count": 7,
   "id": "74cbb8be",
   "metadata": {},
   "outputs": [
    {
     "name": "stdout",
     "output_type": "stream",
     "text": [
      "Dzień dobry\n",
      "Recognized: close\n",
      "Correct: close\n",
      "\n",
      "Cześć\n",
      "Recognized: close\n",
      "Correct: close\n",
      "\n",
      "Hej\n",
      "Recognized: close\n",
      "Correct: close\n",
      "\n",
      "Siema\n",
      "Recognized: close\n",
      "Correct: close\n",
      "\n",
      "Elo, co tam\n",
      "Recognized: close\n",
      "Correct: close\n",
      "\n",
      "Otwórz aplikację spotify\n",
      "Recognized: open\n",
      "Correct: alarm\n",
      "\n",
      "Włącz chrome\n",
      "Recognized: alarm\n",
      "Correct: alarm\n",
      "\n",
      "Otwórz notatnik\n",
      "Recognized: open\n",
      "Correct: alarm\n",
      "\n",
      "Włącz mi aplikacje notatnik\n",
      "Recognized: alarm\n",
      "Correct: alarm\n",
      "\n",
      "Uruchom przeglądarkę\n",
      "Recognized: alarm\n",
      "Correct: alarm\n",
      "\n",
      "Zamknij okno\n",
      "Recognized: open\n",
      "Correct: open\n",
      "\n",
      "Zamknij aplikację\n",
      "Recognized: open\n",
      "Correct: open\n",
      "\n",
      "Wyłącz aplikację\n",
      "Recognized: open\n",
      "Correct: open\n",
      "\n",
      "Nastaw budzik na ośmą rano\n",
      "Recognized: close\n",
      "Correct: greeting\n",
      "\n",
      "Obudź mnie o czwartej rano\n",
      "Recognized: close\n",
      "Correct: greeting\n",
      "\n",
      "Włącz alarm na siedemnastą\n",
      "Recognized: greeting\n",
      "Correct: greeting\n",
      "\n"
     ]
    }
   ],
   "source": [
    "for i, x in enumerate(X_raw):\n",
    "    correct_index = y[i].tolist().index(max(y[i]))\n",
    "    recognized_index = y_predicted[i].numpy().tolist().index(max(y_predicted[i]))\n",
    "    print(f\"{x}\\nRecognized: {labels[recognized_index]}\\nCorrect: {labels[correct_index]}\\n\")"
   ]
  }
 ],
 "metadata": {
  "kernelspec": {
   "display_name": "Python 3 (ipykernel)",
   "language": "python",
   "name": "python3"
  },
  "language_info": {
   "codemirror_mode": {
    "name": "ipython",
    "version": 3
   },
   "file_extension": ".py",
   "mimetype": "text/x-python",
   "name": "python",
   "nbconvert_exporter": "python",
   "pygments_lexer": "ipython3",
   "version": "3.9.7"
  }
 },
 "nbformat": 4,
 "nbformat_minor": 5
}
